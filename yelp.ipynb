{
 "cells": [
  {
   "cell_type": "code",
   "execution_count": 89,
   "metadata": {},
   "outputs": [],
   "source": [
    "import pandas as pd\n",
    "import numpy as np\n",
    "\n",
    "df = pd.read_csv('dataset_real_stars.csv')\n",
    "df.drop(inplace=True, columns=['attributes__DietaryRestrictions', \n",
    "                               'attributes__Music__no_music',\n",
    "                               'attributes__RestaurantsPriceRange2',\n",
    "                               'attributes__BYOBCorkage',\n",
    "                               'attributes__Smoking',\n",
    "                               'state'])\n",
    "\n",
    "df = pd.get_dummies(df, columns=['attributes__AgesAllowed',\n",
    "                                 'attributes__NoiseLevel',\n",
    "                                 'attributes__RestaurantsAttire',\n",
    "                                 'attributes__WiFi',\n",
    "                                 'attributes__Alcohol'])\n",
    "\n",
    "for i in df.columns:\n",
    "    distinct = df[i].unique()\n",
    "    if len(distinct) == 3 and 0.0 in distinct and 1.0 in distinct and np.isnan(distinct).any():\n",
    "        values = df[i].values\n",
    "        mode = pd.Series(values).mode()[0]\n",
    "        df[i].fillna(mode, inplace=True)"
   ]
  },
  {
   "cell_type": "code",
   "execution_count": null,
   "metadata": {},
   "outputs": [],
   "source": []
  }
 ],
 "metadata": {
  "kernelspec": {
   "display_name": "Python 3",
   "language": "python",
   "name": "python3"
  },
  "language_info": {
   "codemirror_mode": {
    "name": "ipython",
    "version": 3
   },
   "file_extension": ".py",
   "mimetype": "text/x-python",
   "name": "python",
   "nbconvert_exporter": "python",
   "pygments_lexer": "ipython3",
   "version": "3.6.6"
  }
 },
 "nbformat": 4,
 "nbformat_minor": 2
}
